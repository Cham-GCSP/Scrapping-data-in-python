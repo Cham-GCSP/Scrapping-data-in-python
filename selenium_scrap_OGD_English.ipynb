{
 "cells": [
  {
   "cell_type": "code",
   "execution_count": 9,
   "id": "a1e744aa",
   "metadata": {},
   "outputs": [],
   "source": [
    "\n",
    "from selenium import webdriver\n",
    "\n",
    "from selenium.webdriver.chrome.service import Service\n",
    "\n",
    "from selenium.webdriver.support.ui import WebDriverWait\n",
    "\n",
    "from selenium.webdriver.support import expected_conditions as EC\n",
    "\n",
    "\n",
    "from bs4 import BeautifulSoup\n",
    "\n",
    "import re\n",
    "\n",
    "from webdriver_manager.chrome import ChromeDriverManager\n",
    "\n",
    "import pandas as pd\n",
    "import csv\n",
    "\n"
   ]
  },
  {
   "cell_type": "code",
   "execution_count": 10,
   "id": "1e99dcff",
   "metadata": {},
   "outputs": [],
   "source": [
    "\n",
    "driver = webdriver.Chrome(service=Service(ChromeDriverManager().install()))\n",
    "title = []\n",
    "\n",
    "for p in range(1365):\n",
    "    current_page = p+1\n",
    "    val = 'https://www.data.go.kr/en/tcs/dss/selectDataSetList.do?dType=FILE&keyword=&detailKeyword=&publicDataPk=&recmSe=&detailText=&relatedKeyword=&commaNotInData=&commaAndData=&commaOrData=&must_not=&tabId=&dataSetCoreTf=&coreDataNm=&sort=&relRadio=&orgFullName=&orgFilter=&org=&orgSearch=&currentPage={}&perPage=40&brm=&instt=&svcType=&kwrdArray=&extsn=&coreDataNmArray=&pblonsipScopeCode='.format(current_page)\n",
    "    wait = WebDriverWait(driver, 10)\n",
    "\n",
    "    driver.get(val)\n",
    "\n",
    "    get_url = driver.current_url\n",
    "\n",
    "    wait.until(EC.url_to_be(val))\n",
    "    \n",
    "\n",
    "    if get_url == val:\n",
    "        page_source = driver.page_source\n",
    "        soup = BeautifulSoup(page_source, 'html.parser')\n",
    "        data = soup.find(class_= 'result-list')\n",
    "        for t in data.find_all(class_='title'):\n",
    "            title.append(t.text.strip())\n",
    "        final = pd.DataFrame(title)\n",
    "        final.to_csv('ogd_en.csv')\n",
    "\n",
    "        \n",
    "\n",
    "final.to_csv('ogd_en.csv', encoding = 'utf=8')\n"
   ]
  },
  {
   "cell_type": "code",
   "execution_count": null,
   "id": "d99f040a",
   "metadata": {},
   "outputs": [],
   "source": []
  },
  {
   "cell_type": "code",
   "execution_count": null,
   "id": "30d25011",
   "metadata": {},
   "outputs": [],
   "source": []
  }
 ],
 "metadata": {
  "kernelspec": {
   "display_name": "Python 3 (ipykernel)",
   "language": "python",
   "name": "python3"
  },
  "language_info": {
   "codemirror_mode": {
    "name": "ipython",
    "version": 3
   },
   "file_extension": ".py",
   "mimetype": "text/x-python",
   "name": "python",
   "nbconvert_exporter": "python",
   "pygments_lexer": "ipython3",
   "version": "3.9.13"
  }
 },
 "nbformat": 4,
 "nbformat_minor": 5
}
